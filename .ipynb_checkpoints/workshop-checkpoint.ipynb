{
 "cells": [
  {
   "cell_type": "markdown",
   "metadata": {},
   "source": [
    "# <div style=\"background-image:url('img/bg.png');min-height:200px; background-size:cover;\"><img src=\"img/logo.png\" width=\"100\" style=\"float:left;\"> <h1 style=\"float:left; padding-left:2em; color:#EEE;\">Workshop 2</h1></div>"
   ]
  },
  {
   "cell_type": "markdown",
   "metadata": {
    "slideshow": {
     "slide_type": "slide"
    }
   },
   "source": [
    "## The basics"
   ]
  },
  {
   "cell_type": "markdown",
   "metadata": {},
   "source": [
    "Lets start with a couple of basics for Python. If you have some prior experience, you can skip the parts that you want to skip. It's still here if you want to reference it."
   ]
  },
  {
   "cell_type": "code",
   "execution_count": null,
   "metadata": {
    "scrolled": true
   },
   "outputs": [],
   "source": [
    "# To execute code in these boxes, click the box and press ctrl+enter.\n",
    "# You can try it out here.\n",
    "print(\"This code has run successfully!\")"
   ]
  },
  {
   "cell_type": "markdown",
   "metadata": {},
   "source": [
    "### Comments"
   ]
  },
  {
   "cell_type": "markdown",
   "metadata": {},
   "source": [
    "Comments can be added by prepending a line with a hash (\"#\") sign.\n",
    "These lines are ignored and not read as code."
   ]
  },
  {
   "cell_type": "code",
   "execution_count": null,
   "metadata": {},
   "outputs": [],
   "source": [
    "# This line is ignored"
   ]
  },
  {
   "cell_type": "code",
   "execution_count": null,
   "metadata": {
    "slideshow": {
     "slide_type": "slide"
    }
   },
   "outputs": [],
   "source": [
    "This line is not ignored and will lead to an error as it is not proper Python code."
   ]
  },
  {
   "cell_type": "markdown",
   "metadata": {},
   "source": [
    "### Packages"
   ]
  },
  {
   "cell_type": "markdown",
   "metadata": {},
   "source": [
    "Extra functionality can be imported in the form of packages.<br>\n",
    "Packages are pieces of code that are created by other programmers.<br>\n",
    "Extra information on how to use the packages can normally be found on the website of the programmer.<br>\n",
    "A package cannot be used in your code without importing it first. To import a package, you can use the following code:<br>\n",
    "&nbsp;&nbsp;&nbsp;&nbsp;**import \"package name\"**<br>\n",
    "If you only want to use a specific function from a package, you can use the following phrase:<br>\n",
    "&nbsp;&nbsp;&nbsp;&nbsp;**from \"package name\" import \"function\"**<br>\n",
    "Some packages are used very often. Typing their entire name can become tiresome.<br>\n",
    "A good programmer is a lazy programmer!<br>\n",
    "You can use the following phrase to rename a package to a shorter name<br>\n",
    "&nbsp;&nbsp;&nbsp;&nbsp;**import \"package name\" as pn**<br>\n",
    "This can be combined to the following phrase:<br>\n",
    "&nbsp;&nbsp;&nbsp;&nbsp;**from \"package name\" import \"function\" as fn**<br><br>\n",
    "**Now try to import the package pandas while renaming it to pd.**<br><br>\n",
    "Pandas is a package that allows you to perform data manipulations, data analysis, output visualisations and import data.<br>\n",
    "More information on the functionality of every package can be found on the website of that specific package. For Pandas, you can find it here: https://pandas.pydata.org/docs/reference/io.html"
   ]
  },
  {
   "cell_type": "code",
   "execution_count": null,
   "metadata": {},
   "outputs": [],
   "source": [
    "# Import required modules\n"
   ]
  },
  {
   "cell_type": "markdown",
   "metadata": {},
   "source": [
    "### Variables"
   ]
  },
  {
   "cell_type": "markdown",
   "metadata": {},
   "source": [
    "A variable can be defined using the following notation:<br>\n",
    "    number = 1 # A number without numbers behind the comma is called a integer in python<br>\n",
    "    number = 1.1 # A number with numbers behind the comma is called a float in python<br>\n",
    "    text = \"Text (text format is called a string in Python)\"<br>\n",
    "    url = r\"input_file.xlsx\"<br>\n",
    "A url is very similar to a string. Please note the \"r\" before the contents however.This ensures that the url is stored correctly.<br>\n",
    "A variable can be named however you want. It cannot contain symbols like space, comma's or slashes however.<br>\n"
   ]
  },
  {
   "cell_type": "code",
   "execution_count": null,
   "metadata": {},
   "outputs": [],
   "source": []
  },
  {
   "cell_type": "markdown",
   "metadata": {},
   "source": [
    "# Break 1"
   ]
  },
  {
   "cell_type": "markdown",
   "metadata": {},
   "source": [
    "# Getting started"
   ]
  },
  {
   "cell_type": "markdown",
   "metadata": {},
   "source": [
    "For this months automation, we want to complete a number of steps <br>\n",
    "1. Loading necessary functionality (see packages)<br>\n",
    "2. Load the input files<br>\n",
    "3. Transform the input files to a uniform format<br>\n",
    "4. Perform the analysis<br>\n",
    "5. Output the results<br>"
   ]
  },
  {
   "cell_type": "markdown",
   "metadata": {},
   "source": [
    "### Load the input files"
   ]
  },
  {
   "cell_type": "markdown",
   "metadata": {},
   "source": [
    "If you take a look in the input directory you see that the input files are in different formats:<br>\n",
    "\n",
    "1. leavers_dates.xlsx\n",
    "2. system1.csv\n",
    "3. system2.txt\n",
    "4. system3.xls\n",
    "\n",
    "Each of these will require a slightly different way of opening them. Lets first have a look at the contents of the files. For this, go to the folder where you extracted the workshop files and look into the Input folder.\n",
    "\n",
    "\n",
    "If we take a look at system2.txt, you will see that there is some data there that we will need to get rid off.<br>\n",
    "\n",
    "**Loading data for analysis**<br>\n",
    "Loading input files is quite simple in Pandas. To do so, you can use one of the following functions:<br>\n",
    "pd.read_excel(r\"linkToFile\")<br>\n",
    "pd.read_csv(r\"linkToFile\")<br><br>\n",
    "To open the first file, we use the following code for example:<br>\n",
    "pd.read_excel(r\"Input/leavers_dates.xlsx\")<br>\n",
    "Try it out below for all the files.\n"
   ]
  },
  {
   "cell_type": "code",
   "execution_count": null,
   "metadata": {},
   "outputs": [],
   "source": []
  },
  {
   "cell_type": "markdown",
   "metadata": {},
   "source": [
    "# Break 2 "
   ]
  },
  {
   "cell_type": "markdown",
   "metadata": {},
   "source": [
    "# Functions of Pandas"
   ]
  },
  {
   "cell_type": "markdown",
   "metadata": {},
   "source": [
    "Looking at the imported files, we need to clean them up a bit before we can use them. For these files in particular, 2 functions will be usefull.\n",
    "\n",
    "**Skipping rows**<br>\n",
    "You can specify any number of rows you would like, with <br>\n",
    "skiprows=numberOfRows<br>\n",
    "For example, pd.read_csv(r\"Input/system2.txt\", skiprows=2)<br>\n",
    "You can try to open the system2.txt file from your windows explorer window. How do you need to alter the code above to import the file properly?\n",
    "\n",
    "**Seperator Values**<br>\n",
    "A csv file stands for comma seperated values. You can see this if you open a csv file in notepad. However, a csv file is not always seperated by commas. The system1 file is seperated by semicolons (;) for example. You can use the seperator function to help load the files. The seperator function works like this:<br>\n",
    "pd.read_csv(r\"Input/system1.csv\", sep=\",\")<br>\n",
    "Try to open the system1 file, by specifying the correct seperator.<br>\n",
    "\n",
    "**Example**<br>\n",
    "So let's say you want to store a sample.csv input file that has 10 rows to be skipped and a comma as a value seperator. You can use the following:<br>\n",
    "\n",
    "*variable = pd.read_csv(r\"input/sample.csv\", skiprows=10 ,sep=\",\")*\n",
    "\n",
    "*Important is to note that after each argument in the function a comma follows.*\n",
    "\n",
    "If we would write: \n",
    "\n",
    "*variable = pd.read_csv(r\"input/sample.csv\" skiprows=10 sep=\",\")*\n",
    "\n",
    "We would get an error:\n",
    "\n",
    "*SyntaxError: invalid syntax*<br><br><br>\n",
    "\n",
    "Now it's your job to load in all the files in the input folder accurately. If you are stuck, don't worry, we are here to help!\n",
    "\n",
    "As a little help, you can use the code below to preview the contents of the variables.<br>\n",
    "More information can always be found on the site of the package, in this case here:<br>\n",
    "https://pandas.pydata.org/pandas-docs/stable/reference/api/pandas.read_csv.html<br>\n",
    "https://pandas.pydata.org/pandas-docs/stable/reference/api/pandas.read_excel.html"
   ]
  },
  {
   "cell_type": "markdown",
   "metadata": {},
   "source": [
    "As we need to use the input files later, try to store them in a variable using the following code:<br>\n",
    "leavers_dates = pd.read_excel(r\"Input/leavers_dates.xlsx\")\n",
    "Try it out for yourself! Make sure to store the excel data in a variable that makes sense to you."
   ]
  },
  {
   "cell_type": "markdown",
   "metadata": {},
   "source": [
    "Now lets dive in a little deeper. The line below prints the system1 variable, but only the Account locked date and only the first row. Feel free to play around with this, to see if you can see other rows and columns."
   ]
  },
  {
   "cell_type": "code",
   "execution_count": null,
   "metadata": {},
   "outputs": [],
   "source": [
    "print(system1['Account locked date'][0])"
   ]
  },
  {
   "cell_type": "code",
   "execution_count": null,
   "metadata": {},
   "outputs": [],
   "source": [
    "print(system2['Account locked date'][0])"
   ]
  },
  {
   "cell_type": "markdown",
   "metadata": {},
   "source": [
    "Comparing the date notations of the two systems, we can see that they are not similar. As we need to compare these to eachother, we need to transform the input files to a uniform format. To do so, another Pandas function can be used, namely the \n",
    "pd.to_datetime() function. It can be used as such:<br>\n",
    "pd.to_datetime(leavers_dates['original_date'], format=\"%d-%m-%Y\", infer_datetime_format=False)<br>\n",
    "There are a couple of things to note here. We use three different inputs for this function. <br>First, the data that we want to transform. <br>Then, the format that the data is currently in. Finally, we tell Pandas not to guess the format of the date, as we just told it what format to use.<br> \n",
    "Looking at the output of the cell above, for system1, the following format is used: \"2021/03/19\". The year comes first, then the month, then the day. Slashes are used to seperate these values. There are a lot of different ways to write the time (eg, januari 1st 2021, 01012021, 1st of jan, etc). These can all be automatically transformed. For a full guide, you can reference this link:<br>\n",
    "https://docs.python.org/3/library/datetime.html#strftime-and-strptime-format-codes<br>\n",
    "Today, we will only use %d, %m and %y respectively, for day, month and year.<br>\n",
    "As we want to clean the data, we do not need to keep the old data. Using the line below, we can overwrite it with the cleaned data. Try it out for each system!"
   ]
  },
  {
   "cell_type": "code",
   "execution_count": null,
   "metadata": {},
   "outputs": [],
   "source": [
    "leavers_dates['Out of service date'] = pd.to_datetime(leavers_dates['Out of service date'], format=\"%Y/%m/%d\", infer_datetime_format=False)"
   ]
  },
  {
   "cell_type": "markdown",
   "metadata": {},
   "source": [
    "# Break 3"
   ]
  },
  {
   "cell_type": "code",
   "execution_count": null,
   "metadata": {},
   "outputs": [],
   "source": [
    "# To make it easy to keep track of where what data comes from, we will add a short text after every columns name.\n",
    "system1 = system1.add_suffix(\"_system1\")\n",
    "system2 = system2.add_suffix(\"_system2\")\n",
    "system3 = system3.add_suffix(\"_system3\")"
   ]
  },
  {
   "cell_type": "markdown",
   "metadata": {},
   "source": [
    "Now that the data is cleaned, we need to be able to compare it. To do so, we will merge it together. In these files, the User ID can be used to merge, as it is consistent accross the files. In this case, we want to take the leavers_dates variable and merge the other system data onto it. To do so, the following code can be used:<br>\n",
    "leavers_dates = leavers_dates.merge(system1, left_on='User ID', right_on=\"User ID_system1\", how=\"left\")<br>\n",
    "To merge the data, we use a number of functions.<br> First of, we do not start with pd this time, but with leavers_dates. This indicates that we want to do something to the leavers_dates variable. Next, we use the merge function (leavers_dates.merge()).\n",
    "In the merge function, first we indicate what we want to merge with. In this case, the system1 variable. <br> Next, we indicate what we want to merge on. In this case, the user id. In the previous step, we added a suffix to the column name. Because of this, the User ID column has been renamed to User ID_system1. We will take that as the column to merge on for the other file. <br>Finally, we choose the \"how\". In this case, we want to merge left. You can determine how it works with the picture below. In this case, the leavers_dates file is on the left, the system1 file on the right. Because we choose merge method \"left\", all entries that were in the leavers_dates file will remain, while only the matching entries from the system1 file are added. This can be a complex subject to figure out, for now you can use the \"left\" method for the remaining merges.\n",
    "<img src=\"https://shanelynnwebsite-mid9n9g1q9y8tt.netdna-ssl.com/wp-content/uploads/2017/03/join-types-merge-names.jpg\" />\n",
    "Try to merge the data from all systems to the leavers_dates variable."
   ]
  },
  {
   "cell_type": "code",
   "execution_count": null,
   "metadata": {
    "scrolled": true
   },
   "outputs": [],
   "source": [
    "leavers_dates = leavers_dates.merge(system1, left_on='User ID', right_on=\"User ID_system1\", how=\"left\")"
   ]
  },
  {
   "cell_type": "markdown",
   "metadata": {},
   "source": [
    "# Break 4"
   ]
  },
  {
   "cell_type": "markdown",
   "metadata": {},
   "source": [
    "Now that we have all the data we need, we can start the analysis.\n",
    "Let's start with having a look at what the leavers_dates variable looks like now."
   ]
  },
  {
   "cell_type": "code",
   "execution_count": null,
   "metadata": {
    "scrolled": true
   },
   "outputs": [],
   "source": [
    "leavers_dates"
   ]
  },
  {
   "cell_type": "markdown",
   "metadata": {},
   "source": [
    "We can see that there are a number of columns we don't need anymore. We can get rid of the with the drop function. Get rid of the columns we don't need, like the User ID of each system below."
   ]
  },
  {
   "cell_type": "code",
   "execution_count": null,
   "metadata": {},
   "outputs": [],
   "source": [
    "leavers_dates =  leavers_dates.drop(columns = ['User ID_system1', 'User ID_system2'])"
   ]
  },
  {
   "cell_type": "markdown",
   "metadata": {},
   "source": [
    "For system 1 and system 2, we want to determine whether the Account Locked date is after the out of service date. To do so, we want to use a pandas query.\n",
    "To get the out of service date, we want to use <br>\n",
    "leavers_dates[\"Out of service date\"]<br>\n",
    "We can get the account locked date in the same way<br>\n",
    "leavers_dates[\"Account locked date_system1\"]<br>\n",
    "To compare the two, you can use the equal sign (==), greater than (>), fewer than (<) or a combination, ending with the equal sign to signify greater than or equal (<=).<br>\n",
    "A single equal sign is used to assign a value, while a double equal sign is used to compare two values.\n",
    "In short, to compare the dates from two systems, you only have to use a sign to compare the two columns.<br>"
   ]
  },
  {
   "cell_type": "code",
   "execution_count": null,
   "metadata": {},
   "outputs": [],
   "source": [
    "leavers_dates['Account locked date_system2']>leavers_dates[\"Out of service date\"]"
   ]
  },
  {
   "cell_type": "markdown",
   "metadata": {},
   "source": [
    "All values that show True in the results above are an exception! Let's document them as such. Use the following code to write the results of this query tot the Exception_system1 column:<br>\n",
    "leavers_dates[\"Exception_system1\"] = leavers_dates['Account locked date_system1']>leavers_dates[\"Out of service date\"]\n",
    "Do the same for system 2."
   ]
  },
  {
   "cell_type": "code",
   "execution_count": null,
   "metadata": {},
   "outputs": [],
   "source": []
  },
  {
   "cell_type": "markdown",
   "metadata": {},
   "source": [
    "# Break 6"
   ]
  },
  {
   "cell_type": "code",
   "execution_count": null,
   "metadata": {},
   "outputs": [],
   "source": [
    "# Now let's have a look at the leavers_dates variable. We're almost there!\n",
    "leavers_dates"
   ]
  },
  {
   "cell_type": "markdown",
   "metadata": {},
   "source": [
    "System 3 is different from system 1 and 2. For this system, accounts cannot be locked. We did get a list of all active user accounts however. Because we used merge method \"left\" a little while ago, only the User ID's that exist in both the leavers list and system 3 will be merged. These are all exceptions. In this case, we can add an exception like so:<br>\n",
    "leavers_dates[\"Exception_system3\"] = leavers_dates[\"User ID_system3\"].notna()<br>\n",
    "In this code, we select the rows where a value exists by using the notna() selector. As these accounts are still in system 3, they are an exception."
   ]
  },
  {
   "cell_type": "code",
   "execution_count": null,
   "metadata": {},
   "outputs": [],
   "source": []
  },
  {
   "cell_type": "markdown",
   "metadata": {},
   "source": [
    "# Break 7"
   ]
  },
  {
   "cell_type": "markdown",
   "metadata": {},
   "source": [
    "Finally, we want to output the data.<br>\n",
    "The simplest way to do so is with the to_excel function. It can be used like so:<br>\n",
    "leavers_dates.to_excel(r\"output.xlsx\")"
   ]
  },
  {
   "cell_type": "code",
   "execution_count": null,
   "metadata": {},
   "outputs": [],
   "source": [
    "leavers_dates.to_excel(r\"output.xlsx\")"
   ]
  },
  {
   "cell_type": "markdown",
   "metadata": {},
   "source": [
    "We're done! We have automated leavers testing. Now you know the basics, you can expand on it to make it as complex as you would like. You can try to gather data directly from source systems, make the excel file better looking, output it to an excel template, etc. <br><br>\n",
    "\n",
    "If you got this far, you can try one of the following things:<br>\n",
    "1. Help your colleagues finish<br>\n",
    "2. Try out this method on some real data you have lying around<br>\n",
    "3. Output the data to a neat excel template instead of a basic one. You can dive into the XLWings functionality to do so: https://docs.xlwings.org/en/stable/quickstart.html See the steps below for a quick head-start<br>\n",
    "4. Output only the data you need to the excel file<br>\n",
    "5. Show the amount of days someone has had unauthorized access to the system<br>"
   ]
  },
  {
   "cell_type": "markdown",
   "metadata": {},
   "source": [
    "Now we will use a couple of functions from the xlwings package. <br>\n",
    "First, import the xlwings package as xw. xw now contains all xlwings functionality. <br>\n",
    "xw.Book(FileUrl) allows you to open an excel file in xlwings. <br>\n",
    "Once opened, the book object contains the information about the excel file. <br>\n",
    "A sheet can be accessed in the following way for example: <br>\n",
    "xw.Book(FileUrl).sheets['Testing sheets'] <br>\n",
    "A cell within a sheet can be accessed like so: <br>\n",
    "xw.Book(FileUrl).sheets['Testing sheets']['B2'].value <br>\n",
    "The value can be changed with the following code: <br>\n",
    "xw.Book(FileUrl).sheets['Testing sheets']['B3'].value = application <br>\n",
    "The value can be changed with the following code: <br>\n",
    "for cell in xw.Book(FileUrl).sheets['Testing sheets']['B6:B10']:<br>\n",
    "&nbsp;&nbsp;&nbsp;&nbsp;cell.value = value<br>\n",
    "\n",
    "By using variables, this can be made quite a bit more neatly.<br>\n",
    "wb = xw.Book(FileUrl)<br>\n",
    "sheet = wb.sheets['Testing sheets']<br>\n",
    "sheet['B3'] = application<br>\n",
    "for cell in sheet['B6:B10']:<br>\n",
    "&nbsp;&nbsp;&nbsp;&nbsp;cell.value = \"test\"<br>"
   ]
  },
  {
   "cell_type": "code",
   "execution_count": null,
   "metadata": {},
   "outputs": [],
   "source": []
  }
 ],
 "metadata": {
  "kernelspec": {
   "display_name": "Python 3 (ipykernel)",
   "language": "python",
   "name": "python3"
  },
  "language_info": {
   "codemirror_mode": {
    "name": "ipython",
    "version": 3
   },
   "file_extension": ".py",
   "mimetype": "text/x-python",
   "name": "python",
   "nbconvert_exporter": "python",
   "pygments_lexer": "ipython3",
   "version": "3.9.6"
  }
 },
 "nbformat": 4,
 "nbformat_minor": 2
}
